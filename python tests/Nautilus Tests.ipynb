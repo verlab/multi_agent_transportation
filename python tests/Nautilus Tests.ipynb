{
 "cells": [
  {
   "cell_type": "code",
   "execution_count": 2,
   "metadata": {
    "collapsed": false
   },
   "outputs": [],
   "source": [
    "from nautilus_lib.models.workspace import Workspace\n",
    "from nautilus_lib.models.thing import Thing\n",
    "from nautilus_lib.models.robot import Robot"
   ]
  },
  {
   "cell_type": "code",
   "execution_count": 3,
   "metadata": {
    "collapsed": false
   },
   "outputs": [],
   "source": [
    "t1 = Thing( position=(1,1,0) )\n",
    "t2 = Thing( position=(1,2,0) )\n",
    "t3 = Thing( position=(5,5,0), size=(1,1,1) )"
   ]
  },
  {
   "cell_type": "code",
   "execution_count": 5,
   "metadata": {
    "collapsed": false
   },
   "outputs": [
    {
     "data": {
      "image/svg+xml": [
       "<svg xmlns=\"http://www.w3.org/2000/svg\" xmlns:xlink=\"http://www.w3.org/1999/xlink\" width=\"100.0\" height=\"100.0\" viewBox=\"0.3 0.3 5.4 5.4\" preserveAspectRatio=\"xMinYMin meet\"><g transform=\"matrix(1,0,0,-1,0,6.0)\"><g><path fill-rule=\"evenodd\" fill=\"#66cc99\" stroke=\"#555555\" stroke-width=\"0.108\" opacity=\"0.6\" d=\"M 5.5,4.5 L 5.5,5.5 L 4.5,5.5 L 4.5,4.5 L 5.5,4.5 z\" /><path fill-rule=\"evenodd\" fill=\"#66cc99\" stroke=\"#555555\" stroke-width=\"0.108\" opacity=\"0.6\" d=\"M 1.5,1.5 L 1.5,0.5 L 0.5,0.5 L 0.5,1.5 L 0.5,2.5 L 1.5,2.5 L 1.5,1.5 z\" /></g></g></svg>"
      ],
      "text/plain": [
       "<shapely.geometry.multipolygon.MultiPolygon at 0x7fa3900d47d0>"
      ]
     },
     "execution_count": 5,
     "metadata": {},
     "output_type": "execute_result"
    }
   ],
   "source": [
    "space = Workspace( size=(20, 20, 10) )\n",
    "\n",
    "space.add_obstacle([t1, t2, t3])\n",
    "\n",
    "space.map_presentation()"
   ]
  },
  {
   "cell_type": "code",
   "execution_count": null,
   "metadata": {
    "collapsed": false
   },
   "outputs": [],
   "source": [
    "if 1:\n",
    "    from matplotlib import pyplot\n",
    "    from shapely.geometry import *\n",
    "    from descartes import PolygonPatch\n",
    "    \n",
    "    fig = pyplot.figure(num=1, dpi=100)\n",
    "\n",
    "    ax = fig.add_subplot(111)\n",
    "\n",
    "    l = []\n",
    "\n",
    "    for obs in space._obstacle_list:\n",
    "        patch = PolygonPatch( obs._polygon, facecolor='#cccccc', edgecolor='#999999' )\n",
    "        ax.add_patch( patch )\n",
    "\n",
    "        l.append( Point( obs.x, obs.y ) )\n",
    "\n",
    "    l = LineString(l).buffer(0.01)\n",
    "\n",
    "    patch1 = PolygonPatch( l )\n",
    "    # patch2 = PolygonPatch( t2._polygon )\n",
    "\n",
    "    # patch = PolygonPatch( m.map_presentation() )\n",
    "\n",
    "    ax.add_patch(patch1)\n",
    "    # ax.add_patch(patch2)\n",
    "    # ax.add_patch( patch )\n",
    "\n",
    "    ax.annotate('annotate', xy=(10, 10), xytext=(15, 15), arrowprops=dict(facecolor='black', shrink=0.01))\n",
    "    \n",
    "    ax.set_xlim(-1, space.size[0] + 1)\n",
    "    ax.set_ylim(-1, space.size[1] + 1)\n",
    "    ax.set_aspect(1)\n",
    "\n",
    "    # fig.show()\n",
    "\n",
    "    # pyplot.show()"
   ]
  },
  {
   "cell_type": "markdown",
   "metadata": {
    "collapsed": false
   },
   "source": [
    "# Planner Test"
   ]
  },
  {
   "cell_type": "code",
   "execution_count": null,
   "metadata": {
    "collapsed": false
   },
   "outputs": [],
   "source": [
    "from nautilus_lib.planner import Planner\n",
    "from nautilus_lib.analyzer import Analyser\n",
    "\n",
    "import nautilus_lib.viewer as vw\n",
    "\n",
    "import networkx as nx"
   ]
  },
  {
   "cell_type": "code",
   "execution_count": null,
   "metadata": {
    "collapsed": false
   },
   "outputs": [],
   "source": [
    "t1 = Thing( position=(1,1,0) )\n",
    "t2 = Thing( position=(8,4,0) )\n",
    "t3 = Thing( position=(10,12,0) )\n",
    "\n",
    "space = Workspace( size=(30, 20, 10) )\n",
    "space.add_obstacle([t1, t2, t3])\n",
    "\n",
    "start = Thing( position=(5,5,0), size=(1,1,1) )\n",
    "end = Thing( position=(5,7,0), size=(1,1,1) )\n",
    "\n",
    "test_case = {\n",
    "    \"start_position\": start,\n",
    "    \"end_position\": end,\n",
    "    \"workspace\": space\n",
    "}\n",
    "\n",
    "planner = Planner()\n",
    "try:\n",
    "    path = planner.plan( test_case )\n",
    "    print len(path)\n",
    "    vw.view_path( planner, path )\n",
    "except Exception, e:\n",
    "    print e.message\n",
    " \n",
    "start = Thing( position=(4,6,0), size=(1,1,1) )\n",
    "end = Thing( position=(6,6,0), size=(1,1,1) )\n",
    "\n",
    "test_case = {\n",
    "    \"start_position\": start,\n",
    "    \"end_position\": end,\n",
    "    \"workspace\": space\n",
    "}\n",
    "\n",
    "planner2 = Planner()\n",
    "\n",
    "try:\n",
    "    path2 = planner2.plan( test_case )\n",
    "    print len(path)\n",
    "    vw.view_path( planner2, path2 )\n",
    "except Exception, e:\n",
    "    print e.message"
   ]
  },
  {
   "cell_type": "code",
   "execution_count": null,
   "metadata": {
    "collapsed": false
   },
   "outputs": [],
   "source": [
    "\n",
    "print path.nodes()\n",
    "print path2.nodes()\n",
    "\n",
    "print [ node for node in path.nodes() if node in path2 ]"
   ]
  },
  {
   "cell_type": "code",
   "execution_count": null,
   "metadata": {
    "collapsed": false
   },
   "outputs": [],
   "source": [
    "segments = Analyser.slipt( path )\n",
    "\n",
    "for seg in segments:\n",
    "    print seg.graph['start_id']\n",
    "    print seg.graph['end_id']\n",
    "    print len(seg)\n",
    "    print '-----'"
   ]
  },
  {
   "cell_type": "code",
   "execution_count": null,
   "metadata": {
    "collapsed": false
   },
   "outputs": [],
   "source": [
    "import random\n",
    "r = lambda: random.randint(0,255)\n",
    "print('#%02X%02X%02X' % (r(),r(),r()))"
   ]
  },
  {
   "cell_type": "markdown",
   "metadata": {},
   "source": [
    "# Executor Test"
   ]
  },
  {
   "cell_type": "code",
   "execution_count": 6,
   "metadata": {
    "collapsed": false
   },
   "outputs": [
    {
     "data": {
      "image/svg+xml": [
       "<svg xmlns=\"http://www.w3.org/2000/svg\" xmlns:xlink=\"http://www.w3.org/1999/xlink\" width=\"100.0\" height=\"100.0\" viewBox=\"16.7 0.7 19.6 21.6\" preserveAspectRatio=\"xMinYMin meet\"><g transform=\"matrix(1,0,0,-1,0,23.0)\"><g><path fill-rule=\"evenodd\" fill=\"#66cc99\" stroke=\"#555555\" stroke-width=\"0.432\" opacity=\"0.6\" d=\"M 24.5,2.5 L 25.5,2.5 L 25.5,1.5 L 24.5,1.5 L 23.5,1.5 L 22.5,1.5 L 22.5,2.5 L 23.5,2.5 L 24.5,2.5 z\" /><path fill-rule=\"evenodd\" fill=\"#66cc99\" stroke=\"#555555\" stroke-width=\"0.432\" opacity=\"0.6\" d=\"M 34.5,3.5 L 33.5,3.5 L 33.5,4.5 L 33.5,5.5 L 34.5,5.5 L 35.5,5.5 L 35.5,4.5 L 35.5,3.5 L 34.5,3.5 z\" /><path fill-rule=\"evenodd\" fill=\"#66cc99\" stroke=\"#555555\" stroke-width=\"0.432\" opacity=\"0.6\" d=\"M 33.5,21.5 L 34.5,21.5 L 34.5,20.5 L 33.5,20.5 L 32.5,20.5 L 31.5,20.5 L 30.5,20.5 L 30.5,21.5 L 31.5,21.5 L 32.5,21.5 L 33.5,21.5 z\" /><path fill-rule=\"evenodd\" fill=\"#66cc99\" stroke=\"#555555\" stroke-width=\"0.432\" opacity=\"0.6\" d=\"M 18.5,20.5 L 17.5,20.5 L 17.5,21.5 L 18.5,21.5 L 19.5,21.5 L 20.5,21.5 L 21.5,21.5 L 22.5,21.5 L 23.5,21.5 L 24.5,21.5 L 25.5,21.5 L 26.5,21.5 L 26.5,20.5 L 25.5,20.5 L 24.5,20.5 L 23.5,20.5 L 22.5,20.5 L 21.5,20.5 L 20.5,20.5 L 19.5,20.5 L 18.5,20.5 z\" /><path fill-rule=\"evenodd\" fill=\"#66cc99\" stroke=\"#555555\" stroke-width=\"0.432\" opacity=\"0.6\" d=\"M 22.5,6.5 L 23.5,6.5 L 24.5,6.5 L 25.5,6.5 L 25.5,5.5 L 24.5,5.5 L 23.5,5.5 L 22.5,5.5 L 21.5,5.5 L 21.5,6.5 L 21.5,7.5 L 21.5,8.5 L 21.5,9.5 L 21.5,10.5 L 21.5,11.5 L 20.5,11.5 L 19.5,11.5 L 18.5,11.5 L 17.5,11.5 L 17.5,12.5 L 17.5,13.5 L 17.5,14.5 L 17.5,15.5 L 17.5,16.5 L 18.5,16.5 L 18.5,15.5 L 18.5,14.5 L 18.5,13.5 L 18.5,12.5 L 19.5,12.5 L 20.5,12.5 L 21.5,12.5 L 21.5,13.5 L 21.5,14.5 L 21.5,15.5 L 21.5,16.5 L 22.5,16.5 L 22.5,15.5 L 22.5,14.5 L 22.5,13.5 L 22.5,12.5 L 22.5,11.5 L 22.5,10.5 L 22.5,9.5 L 22.5,8.5 L 22.5,7.5 L 22.5,6.5 z\" /><path fill-rule=\"evenodd\" fill=\"#66cc99\" stroke=\"#555555\" stroke-width=\"0.432\" opacity=\"0.6\" d=\"M 34.5,8.5 L 33.5,8.5 L 33.5,9.5 L 33.5,10.5 L 33.5,11.5 L 33.5,12.5 L 33.5,13.5 L 33.5,14.5 L 33.5,15.5 L 33.5,16.5 L 34.5,16.5 L 34.5,15.5 L 34.5,14.5 L 34.5,13.5 L 34.5,12.5 L 34.5,11.5 L 34.5,10.5 L 34.5,9.5 L 35.5,9.5 L 35.5,8.5 L 34.5,8.5 z\" /></g></g></svg>"
      ],
      "text/plain": [
       "<shapely.geometry.multipolygon.MultiPolygon at 0x7fa390046110>"
      ]
     },
     "execution_count": 6,
     "metadata": {},
     "output_type": "execute_result"
    }
   ],
   "source": [
    "from nautilus_executor.utils import create_environment\n",
    "# import nautilus_lib.viwer as vw\n",
    "\n",
    "map_path = '/home/ramonmelo/Dropbox/Ramon_Projects/ramon-mestrado/impl/src/system/system_library/src/map_creator/maps/map1.json'\n",
    "\n",
    "environment = create_environment( map_path )\n",
    "\n",
    "space = environment['workspace']\n",
    "\n",
    "start = environment['object_list'][0]['start']\n",
    "end = environment['object_list'][0]['end']\n",
    "\n",
    "# print type(environment['robot_dict'].values()[0]) is Thing\n",
    "\n",
    "test_case = {\n",
    "    \"start_position\": start,\n",
    "    \"end_position\": end,\n",
    "    \"workspace\": space\n",
    "}\n",
    "\n",
    "# vw.view_environment( environment )\n",
    "\n",
    "space.map_presentation()"
   ]
  },
  {
   "cell_type": "code",
   "execution_count": 7,
   "metadata": {
    "collapsed": false
   },
   "outputs": [
    {
     "name": "stdout",
     "output_type": "stream",
     "text": [
      "Total: 6.31809234619e-05\n"
     ]
    }
   ],
   "source": [
    "from nautilus_executor.utils import create_environment\n",
    "from nautilus_executor.manager import ManagerSimple\n",
    "\n",
    "import time\n",
    "\n",
    "map_path = '/home/ramonmelo/Dropbox/Ramon_Projects/ramon-mestrado/impl/src/system/system_library/src/map_creator/maps/map1.json'\n",
    "environment = create_environment( map_path )\n",
    "\n",
    "start_time = time.time()\n",
    "\n",
    "# ManagerSimple.execute( environment )\n",
    "\n",
    "print \"Total:\", time.time() - start_time"
   ]
  },
  {
   "cell_type": "code",
   "execution_count": 9,
   "metadata": {
    "collapsed": false
   },
   "outputs": [
    {
     "name": "stdout",
     "output_type": "stream",
     "text": [
      "Total object: 207\n",
      "Total robot: 451\n",
      "Total: 658\n"
     ]
    }
   ],
   "source": [
    "from nautilus_executor.manager import ManagerSmart\n",
    "\n",
    "ManagerSmart.execute( environment )"
   ]
  },
  {
   "cell_type": "code",
   "execution_count": null,
   "metadata": {
    "collapsed": true
   },
   "outputs": [],
   "source": []
  }
 ],
 "metadata": {
  "kernelspec": {
   "display_name": "Python 2",
   "language": "python",
   "name": "python2"
  },
  "language_info": {
   "codemirror_mode": {
    "name": "ipython",
    "version": 2
   },
   "file_extension": ".py",
   "mimetype": "text/x-python",
   "name": "python",
   "nbconvert_exporter": "python",
   "pygments_lexer": "ipython2",
   "version": "2.7.6"
  }
 },
 "nbformat": 4,
 "nbformat_minor": 0
}
