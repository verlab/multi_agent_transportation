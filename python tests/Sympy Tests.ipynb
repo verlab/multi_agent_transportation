{
 "cells": [
  {
   "cell_type": "code",
   "execution_count": 1,
   "metadata": {
    "collapsed": false
   },
   "outputs": [],
   "source": [
    "import numpy as np\n",
    "import sympy as sp"
   ]
  },
  {
   "cell_type": "code",
   "execution_count": 16,
   "metadata": {
    "collapsed": false
   },
   "outputs": [
    {
     "data": {
      "text/plain": [
       "3.0001"
      ]
     },
     "execution_count": 16,
     "metadata": {},
     "output_type": "execute_result"
    }
   ],
   "source": [
    "time_factor_s = sp.Symbol('time_factor')\n",
    "distance_factor_s = sp.Symbol('distance_factor')\n",
    "energy_factor_s = sp.Symbol('energy_factor')\n",
    "\n",
    "distance_s = sp.Symbol('distance')\n",
    "time_s = sp.Symbol('time')\n",
    "energy_s = sp.Symbol('energy')\n",
    "\n",
    "eq = sp.sympify('time_factor * time + distance_factor * distance + energy_factor * energy')\n",
    "\n",
    "eq = eq.subs(time_factor_s, 1)\n",
    "eq = eq.subs(distance_factor_s, 1)\n",
    "eq = eq.subs(energy_factor_s, 1)\n",
    "\n",
    "eq = eq.subs( [(distance_s, 1), (time_s, 1), (energy_s, 1)] )\n",
    "\n",
    "res = eq.evalf(5) + 0.0001\n",
    "\n",
    "float(res)"
   ]
  },
  {
   "cell_type": "code",
   "execution_count": 3,
   "metadata": {
    "collapsed": false
   },
   "outputs": [
    {
     "name": "stdout",
     "output_type": "stream",
     "text": [
      "[1 2 3]\n",
      "[10  2  3]\n"
     ]
    }
   ],
   "source": [
    "a1 = np.array([1,2,3])\n",
    "a2 = np.array(a1)\n",
    "# a2 = a1\n",
    "\n",
    "a2[0] = 10\n",
    "\n",
    "print a1\n",
    "print a2"
   ]
  },
  {
   "cell_type": "code",
   "execution_count": null,
   "metadata": {
    "collapsed": true
   },
   "outputs": [],
   "source": []
  }
 ],
 "metadata": {
  "kernelspec": {
   "display_name": "Python 2",
   "language": "python",
   "name": "python2"
  },
  "language_info": {
   "codemirror_mode": {
    "name": "ipython",
    "version": 2
   },
   "file_extension": ".py",
   "mimetype": "text/x-python",
   "name": "python",
   "nbconvert_exporter": "python",
   "pygments_lexer": "ipython2",
   "version": "2.7.6"
  }
 },
 "nbformat": 4,
 "nbformat_minor": 0
}
