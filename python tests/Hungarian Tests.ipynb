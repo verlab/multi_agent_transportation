{
 "cells": [
  {
   "cell_type": "code",
   "execution_count": 83,
   "metadata": {
    "collapsed": false
   },
   "outputs": [
    {
     "name": "stdout",
     "output_type": "stream",
     "text": [
      "[[5, 9, 100000000, 100000000], [10, 1, 100000000, 100000000], [11, 2, 100000000, 100000000], [2, 9, 100000000, 100000000]]\n",
      "[[5, 9, 100000000, 100000000], [10, 1, 100000000, 100000000], [11, 2, 100000000, 100000000], [2, 9, 100000000, 100000000]]\n",
      "(0, 2) -> 100000000\n",
      "(1, 1) -> 1\n",
      "(2, 3) -> 100000000\n",
      "(3, 0) -> 2\n",
      "total cost: 3\n"
     ]
    }
   ],
   "source": [
    "from munkres import Munkres, print_matrix\n",
    "import numpy as np\n",
    "\n",
    "m = Munkres()\n",
    "\n",
    "inf = 100000000\n",
    "\n",
    "# Row are robots\n",
    "# Coluns are objets\n",
    "\n",
    "# 4 robots 2 objects\n",
    "matrix = [[5, 9, inf, inf],\n",
    "          [10, 1, inf, inf],\n",
    "          [11, 2, inf, inf],\n",
    "          [2, 9, inf, inf]]\n",
    "\n",
    "# 3 robots, 4 objects\n",
    "# matrix = [[5, 9, 12, 15],\n",
    "#           [10, 1, 5, 20],\n",
    "#           [11, 5, 7, 13],\n",
    "#           [inf, inf, inf, inf]]\n",
    "\n",
    "a = np.array( matrix )\n",
    "\n",
    "m = Munkres()\n",
    "\n",
    "print matrix\n",
    "\n",
    "indexes = m.compute( matrix )\n",
    "\n",
    "print matrix\n",
    "\n",
    "# print_matrix(matrix, msg='Lowest cost through this matrix:')\n",
    "\n",
    "total = 0\n",
    "\n",
    "for row, column in indexes:\n",
    "    value = matrix[row][column]\n",
    "    total += value if value != inf else 0\n",
    "    print '(%d, %d) -> %d' % (row, column, value)\n",
    "print 'total cost: %d' % total"
   ]
  },
  {
   "cell_type": "code",
   "execution_count": 73,
   "metadata": {
    "collapsed": false
   },
   "outputs": [
    {
     "name": "stdout",
     "output_type": "stream",
     "text": [
      "The slowest run took 5.01 times longer than the fastest. This could mean that an intermediate result is being cached \n",
      "10000 loops, best of 3: 38.1 µs per loop\n"
     ]
    }
   ],
   "source": [
    "%timeit m.compute(a)"
   ]
  },
  {
   "cell_type": "code",
   "execution_count": 49,
   "metadata": {
    "collapsed": false
   },
   "outputs": [
    {
     "name": "stdout",
     "output_type": "stream",
     "text": [
      "[0 2 1] [0 2 1]\n",
      "(0, 0) -> 5\n",
      "(2, 2) -> 0\n",
      "(1, 1) -> 3\n",
      "total cost: 8\n"
     ]
    }
   ],
   "source": [
    "import numpy\n",
    "import hungarian\n",
    "\n",
    "inf = 1000\n",
    "\n",
    "a = numpy.array( matrix )\n",
    "\n",
    "row, column = hungarian.lap(a)\n",
    "\n",
    "print row, column\n",
    "\n",
    "total = 0\n",
    "\n",
    "for i in range(0, len(row)):\n",
    "    value = a[ row[i] ][ column[i] ]\n",
    "    total += value\n",
    "    print '(%d, %d) -> %d' % ( row[i] , column[i], value)\n",
    "    \n",
    "print 'total cost: %d' % total"
   ]
  },
  {
   "cell_type": "code",
   "execution_count": 80,
   "metadata": {
    "collapsed": false
   },
   "outputs": [
    {
     "data": {
      "text/plain": [
       "(2, 2)"
      ]
     },
     "execution_count": 80,
     "metadata": {},
     "output_type": "execute_result"
    }
   ],
   "source": [
    "import numpy as np\n",
    "\n",
    "arr = np.full( (10, 10), 1000000 )\n",
    "\n",
    "(max(1,2),)*2"
   ]
  }
 ],
 "metadata": {
  "kernelspec": {
   "display_name": "Python 2",
   "language": "python",
   "name": "python2"
  },
  "language_info": {
   "codemirror_mode": {
    "name": "ipython",
    "version": 2
   },
   "file_extension": ".py",
   "mimetype": "text/x-python",
   "name": "python",
   "nbconvert_exporter": "python",
   "pygments_lexer": "ipython2",
   "version": "2.7.6"
  }
 },
 "nbformat": 4,
 "nbformat_minor": 0
}
