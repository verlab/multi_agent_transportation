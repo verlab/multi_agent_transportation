{
 "cells": [
  {
   "cell_type": "code",
   "execution_count": 28,
   "metadata": {
    "collapsed": false
   },
   "outputs": [],
   "source": [
    "from system_utils.workspace_lib import create_environment_configuration\n",
    "from system_utils.encode_decode_lib import encode_data, decode_data\n",
    "\n",
    "from nautilus_planner.planning.planner import Planner\n",
    "from nautilus_planner.planning.planner_a_star import PlannerAStar\n",
    "import nautilus_planner.utilities.heuristic as heuristic\n",
    "\n",
    "from nautilus_planner.analyzer.analyzer import Analyzer\n",
    "from nautilus_planner.allocator.allocator import Allocator"
   ]
  },
  {
   "cell_type": "code",
   "execution_count": 47,
   "metadata": {
    "collapsed": false
   },
   "outputs": [
    {
     "data": {
      "text/plain": [
       "{'maps': <nautilus_planner.environment.map.Map at 0x7fa5a7df3e90>,\n",
       " 'object_descriptors': [{'end': <nautilus_planner.environment.thing.Thing at 0x7fa5a7f5b1d0>,\n",
       "   'id': 0,\n",
       "   'start': <nautilus_planner.environment.thing.Thing at 0x7fa5a7f5b390>},\n",
       "  {'end': <nautilus_planner.environment.thing.Thing at 0x7fa5a86bbd10>,\n",
       "   'id': 1,\n",
       "   'start': <nautilus_planner.environment.thing.Thing at 0x7fa5a7ebbb10>}],\n",
       " 'robot_descriptors': [<nautilus_planner.environment.robot.Robot at 0x7fa5a7ebb650>]}"
      ]
     },
     "execution_count": 47,
     "metadata": {},
     "output_type": "execute_result"
    }
   ],
   "source": [
    "map_path = 'impl/src/system/system_library/src/map_creator/maps/map1.json'\n",
    "\n",
    "config = create_environment_configuration( map_path )\n",
    "\n",
    "robot = config['robot_descriptors'][0]\n",
    "\n",
    "config\n",
    "\n",
    "# data = encode_data( config )\n",
    "# decode_data( data )"
   ]
  },
  {
   "cell_type": "code",
   "execution_count": 17,
   "metadata": {
    "collapsed": false
   },
   "outputs": [],
   "source": [
    "planner = PlannerAStar()\n",
    "planner.type = Planner.types.land\n",
    "planner.heuristic = heuristic.manhattan"
   ]
  },
  {
   "cell_type": "code",
   "execution_count": 40,
   "metadata": {
    "collapsed": false
   },
   "outputs": [
    {
     "name": "stdout",
     "output_type": "stream",
     "text": [
      "distance 0.5\n",
      "40\n",
      "1\n",
      "creating graph for robot 0\n"
     ]
    }
   ],
   "source": [
    "environment = {\n",
    "                'maps': config['maps'],\n",
    "                'initial_state': config['object_descriptors'][0]['start'],\n",
    "                'goal_state': config['object_descriptors'][0]['end'],\n",
    "                'robot_descriptors': config['robot_descriptors']\n",
    "               }\n",
    "\n",
    "\n",
    "\n",
    "plan = planner.plan( environment )\n",
    "\n",
    "print len(plan)\n",
    "\n",
    "segments = Analyzer.split( plan )\n",
    "checkpoints = Analyzer.create_checkpoints( segments )\n",
    "\n",
    "print len(segments)\n",
    "\n",
    "allocator = Allocator()\n",
    "\n",
    "move_groups, allocation_list = allocator.allocate( environment, checkpoints )"
   ]
  },
  {
   "cell_type": "code",
   "execution_count": 1,
   "metadata": {
    "collapsed": false
   },
   "outputs": [
    {
     "ename": "NameError",
     "evalue": "name 'config' is not defined",
     "output_type": "error",
     "traceback": [
      "\u001b[0;31m---------------------------------------------------------------------------\u001b[0m\n\u001b[0;31mNameError\u001b[0m                                 Traceback (most recent call last)",
      "\u001b[0;32m<ipython-input-1-d3c6d1411613>\u001b[0m in \u001b[0;36m<module>\u001b[0;34m()\u001b[0m\n\u001b[0;32m----> 1\u001b[0;31m \u001b[0mfilter\u001b[0m\u001b[0;34m(\u001b[0m\u001b[0;32mlambda\u001b[0m \u001b[0mitem\u001b[0m\u001b[0;34m:\u001b[0m \u001b[0mitem\u001b[0m\u001b[0;34m[\u001b[0m\u001b[0;34m'id'\u001b[0m\u001b[0;34m]\u001b[0m \u001b[0;34m!=\u001b[0m \u001b[0;36m0\u001b[0m\u001b[0;34m,\u001b[0m \u001b[0mconfig\u001b[0m\u001b[0;34m[\u001b[0m\u001b[0;34m'object_descriptors'\u001b[0m\u001b[0;34m]\u001b[0m\u001b[0;34m)\u001b[0m\u001b[0;34m\u001b[0m\u001b[0m\n\u001b[0m",
      "\u001b[0;31mNameError\u001b[0m: name 'config' is not defined"
     ]
    }
   ],
   "source": [
    "filter(lambda item: item['id'] != 0, config['object_descriptors'])"
   ]
  },
  {
   "cell_type": "code",
   "execution_count": 1,
   "metadata": {
    "collapsed": false
   },
   "outputs": [
    {
     "data": {
      "text/plain": [
       "1"
      ]
     },
     "execution_count": 1,
     "metadata": {},
     "output_type": "execute_result"
    }
   ],
   "source": [
    "a = [1,2,3]\n",
    "\n",
    "a.pop(0)"
   ]
  },
  {
   "cell_type": "code",
   "execution_count": 8,
   "metadata": {
    "collapsed": false
   },
   "outputs": [],
   "source": [
    "import numpy as np\n",
    "import matplotlib.pyplot as plt\n",
    "import matplotlib.animation as animation\n",
    "\n",
    "def update_graph(num, data, line):\n",
    "    line.set_data(data[...,:num])\n",
    "#     return line,\n",
    "\n",
    "fig1 = plt.figure()\n",
    "\n",
    "data = np.random.rand(2, 25)\n",
    "l, = plt.plot([], [], 'r-')\n",
    "\n",
    "plt.xlim(0, 1)\n",
    "plt.ylim(0, 1)\n",
    "plt.xlabel('x')\n",
    "plt.title('test')\n",
    "\n",
    "line_ani = animation.FuncAnimation(fig1, update_graph, 25, fargs=(data, l), interval=50, blit=False)\n",
    "\n",
    "plt.show()"
   ]
  },
  {
   "cell_type": "code",
   "execution_count": 2,
   "metadata": {
    "collapsed": false
   },
   "outputs": [
    {
     "name": "stdout",
     "output_type": "stream",
     "text": [
      "[1, 4, 9]\n"
     ]
    }
   ],
   "source": [
    "from multiprocessing import Pool\n",
    "\n",
    "def f(x):\n",
    "    return x*x\n",
    "\n",
    "if __name__ == '__main__':\n",
    "    p = Pool(1)\n",
    "    print(p.map(f, [1, 2, 3]))"
   ]
  }
 ],
 "metadata": {
  "kernelspec": {
   "display_name": "Python 2",
   "language": "python",
   "name": "python2"
  },
  "language_info": {
   "codemirror_mode": {
    "name": "ipython",
    "version": 2
   },
   "file_extension": ".py",
   "mimetype": "text/x-python",
   "name": "python",
   "nbconvert_exporter": "python",
   "pygments_lexer": "ipython2",
   "version": "2.7.6"
  }
 },
 "nbformat": 4,
 "nbformat_minor": 0
}
